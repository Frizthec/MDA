{
  "nbformat": 4,
  "nbformat_minor": 0,
  "metadata": {
    "colab": {
      "private_outputs": true,
      "provenance": []
    },
    "kernelspec": {
      "name": "python3",
      "display_name": "Python 3"
    },
    "language_info": {
      "name": "python"
    }
  },
  "cells": [
    {
      "cell_type": "markdown",
      "source": [
        "# Entrepreneurial Pitch MDA and peruasiveness scoring\n",
        "\n",
        "In this notebook metadiscursive score for persuasiveness is computed for the 2023 Rice business pitches.  The transcripts were obtained from [public YouTube videos](https://youtu.be/vqUVxbD2NLA?si=K-9FutgcCDdGKh89).\n",
        "\n",
        "Persuasiveness score is defined as: percentage(interactive) - (pc_hedges + pc_emphatics + pc_att_markers)."
      ],
      "metadata": {
        "id": "Wq78dVF0NJWz"
      }
    },
    {
      "cell_type": "code",
      "execution_count": null,
      "metadata": {
        "id": "vx_HUoeojbW7"
      },
      "outputs": [],
      "source": [
        "import numpy as np\n",
        "import pandas as pd\n",
        "#import plotly.express as px\n",
        "import string\n",
        "#import spacy\n",
        "#nlp = spacy.load(\"en_core_web_sm\")\n",
        "\n",
        "from gensim.parsing.preprocessing import remove_stopwords\n",
        "from gensim.parsing.preprocessing import strip_punctuation\n",
        "from gensim.parsing.preprocessing import strip_multiple_whitespaces\n",
        "from gensim.parsing.preprocessing import stem_text\n",
        "\n",
        "#from gensim.summarization.summarizer import summarize\n",
        "#from gensim.summarization import keywords\n",
        "\n",
        "#import networkx as nx\n",
        "\n",
        "import os\n",
        "import tqdm\n",
        "\n",
        "import re\n",
        "\n",
        "import plotly.express as px"
      ]
    },
    {
      "cell_type": "code",
      "source": [
        "class MetaDiscourseAnalysis:\n",
        "\n",
        "  def __init__(self):\n",
        "    self.CodeGloss = [\"matter\", \"fact\", \"called\", \"defined\", \"example\", \"instance\", \"mean\", \"ie\", \"i.e.\", \"i.e\", \"know\", \"know\", \"namely\", \"another\", \"way\", \"put\", \"say\", \"specifically\", \"such\", \"as\", \"that\", \"mean\", \"means\", \"viz\", \"viz.\"];\n",
        "    self.Endophorics = [\"chapter\", \"part\", \"section\", \"example\", \"fig\", \"figure\", \"fig.\", \"page\", \"table\", \"above\", \"before\", \"below\", \"earlier\", \"later\"];\n",
        "    self.Evidentials = [\"cite\", \"cited\", \"quoted\", \"quote\", \"according\"];\n",
        "    self.FrameMarkersSequencing = [\"chapter\", \"section\", \"part\", \"finally\", \"final\", \"first\", \"second\", \"third\", \"firstly\", \"secondly\", \"thirdly\", \"fourth\", \"fifth\", \"subsequent\", \"subsequently\", \"then\"];\n",
        "    self.FrameMarkersLabels = [\"all\", \"point\", \"stage\", \"far\", \"moment\", \"brief\", \"conclusion\", \"short\", \"summary\", \"now\", \"whole\", \"overall\", \"thus\", \"conclude\", \"repeat\", \"sum\", \"summarize\"];\n",
        "    self.FrameMarkersAnnounceGoals = [\"this\", \"aim\", \"desire\", \"focus\", \"goal\", \"intend\", \"intention\", \"objective\", \"purpose\", \"seek\", \"want\", \"wish\", \"would\", \"like\"];\n",
        "    self.FrameMarkersShiftTopics = [\"back\", \"digress\", \"regard\", \"move\", \"resume\", \"return\", \"revisit\", \"shift\", \"look\", \"closely\", \"turn\", \"regard\"];\n",
        "    self.FrameMarkers = self.FrameMarkersSequencing + self.FrameMarkersLabels + self.FrameMarkersAnnounceGoals + self.FrameMarkersShiftTopics\n",
        "    self.Transition = [\"accordingly\", \"according\", \"additionally\", \"again\", \"also\", \"alternatively\", \"although\", \"consequence\", \"result\", \"same\", \"time\", \"because\", \"besides\", \"but\", \"contrast\", \"by\", \"token\", \"consequently\", \"conversely\", \"equally\", \"equal\", \"even\", \"though\", \"further\", \"furthermore\", \"hence\", \"however\", \"addition\", \"contrast\", \"way\", \"leads\", \"likewise\", \"moreover\", \"nevertheless\", \"nonetheless\", \"contrary\", \"hand\", \"rather\", \"result\", \"similarly\", \"similar\", \"since\", \"so\", \"still\", \"result\", \"thereby\", \"therefore\", \"though\", \"thus\", \"whereas\", \"while\", \"yet\"];\n",
        "    self.AttitudeMarkers = [\"admittedly\", \"agree\", \"agrees\", \"agreed\", \"amazed\", \"amazing\", \"amazingly\", \"appropriate\", \"appropriately\", \"astonished\", \"astonishing\", \"astonishingly\", \"correctly\", \"curious\", \"curiously\", \"desirable\", \"desirably\", \"disappointed\", \"disappointing\", \"disappointingly\", \"disagree\", \"disagreed\", \"disagrees\", \"dramatic\", \"dramatically\", \"essential\", \"essentially\", \"even\", \"expected\", \"expectedly\", \"fortunate\", \"fortunately\", \"hopeful\", \"hopefully\", \"important\", \"importantly\", \"inappropriate\", \"inappropriately\", \"interesting\", \"interestingly\", \"prefer\", \"preferable\", \"preferably\", \"preferred\", \"remarkable\", \"remarkably\", \"shocked\", \"shocking\", \"shockingly\", \"striking\", \"strikingly\", \"surprised\", \"surprising\", \"surprisingly\", \"unbelievable\", \"unbelievably\", \"understandable\", \"understandably\", \"unexpected\", \"unexpectedly\", \"unfortunate\", \"unfortunately\", \"unusual\", \"unusually\", \"usual\"];\n",
        "    self.Emphatics=[\"actually\", \"always\", \"believe\", \"believed\", \"believes\", \"beyond doub t\", \"certain\", \"certainly\", \"clear\", \"clearly\", \"conclusively\", \"decidedly\", \"definite\", \"definitely\", \"demonstrate\", \"demonstrated\", \"demonstrates\", \"doubtless\", \"establish\", \"established\", \"evident\", \"evidently\", \"find\", \"finds\", \"found\", \"fact\", \"incontestable\", \"incontestably\", \"incontrovertible\", \"incontrovertibly\", \"indeed\", \"indisputable\", \"indisputably\", \"know\", \"known\", \"must\", \"never\", \"obvious\", \"obviously\", \"course\", \"prove\", \"proved\", \"proves\", \"realize\", \"realized\", \"realizes\", \"really\", \"show\", \"showed\", \"shown\", \"shows\", \"sure\", \"surely\", \"think\", \"thinks\", \"thought\", \"truly\", \"true\", \"undeniable\", \"undeniably\", \"undisputedly\", \"undoubtedly\", \"doubt\"];\n",
        "    self.PersonMarkers = [\"i\", \"we\", \"me\", \"my\", \"our\", \"mine\", \"us\", \"you\", \"your\", \"author\", \"authors\", \"author's\", \"writer\", \"writer's\", \"writers\", \"they\", \"them\", \"he\", \"she\"];\n",
        "    self.Engagement = [\"reader\", \"readers\", \"add\", \"allow\", \"analyse\", \"apply\", \"arrange\", \"assess\", \"assume\", \"by the way\", \"calculate\", \"choose\", \"classify\", \"compare\", \"connect\", \"consider\", \"consult\", \"contrast\", \"define\", \"demonstrate\", \"determine\", \"do not\", \"develop\", \"employ\", \"ensure\", \"estimate\", \"evaluate\", \"find\", \"follow\", \"go\", \"have\", \"imagine\", \"incidentally\", \"increase\", \"input\", \"insert\", \"integrate\", \"key\", \"let\", \"let's\", \"lets\", \"look\", \"mark\", \"measure\", \"mount\", \"must\", \"need\", \"note\", \"notice\", \"observe\", \"one's\", \"ones\", \"order\", \"ought\", \"our \", \"pay\", \"picture\", \"prepare\", \"recall\", \"recover\", \"refer\", \"regard\", \"remember\", \"remove\", \"review\", \"see\", \"select\", \"set\", \"should\", \"show\", \"suppose\", \"state\", \"take\", \"think\", \"turn\", \"us\", \"use\", \"we\", \"you\", \"your\"];\n",
        "    self.Hedges = [\"about\", \"almost\", \"apparent\", \"apparently\", \"appear\", \"appeared\", \"appears\", \"approximately\", \"argue\", \"argued\", \"argues\", \"around\", \"assume\", \"assumed\", \"broadly\", \"certain\", \"extent\", \"level\", \"claim\", \"claimed\", \"claims\", \"could\", \"couldn't\", \"doubt\", \"doubtful\", \"essentially\", \"estimate\", \"estimated\", \"fairly\", \"feel\", \"feels\", \"felt\", \"frequently\", \"perspective\", \"generally\", \"guess\", \"indicate\", \"indicated\", \"indicates\", \"general\", \"most\", \"opinion\", \"view\", \"largely\", \"likely\", \"mainly\", \"may\", \"maybe\", \"might\", \"mostly\", \"often\", \"ought\", \"perhaps\", \"plausible\", \"plausibly\", \"possible\", \"possibly\", \"postulate\", \"postulated\", \"postulates\", \"presumable\", \"presumably\", \"probable\", \"probably\", \"quite\", \"rather \", \"relatively\", \"roughly\", \"seems\", \"should\", \"sometimes\", \"somewhat\", \"suggest\", \"suggested\", \"suggests\", \"suppose\", \"supposed\", \"supposes\", \"suspect\", \"suspects\", \"tend t o\", \"tended to\", \"tends to\", \"knowledge\", \"typical\", \"typically\", \"uncertain\", \"uncertainly\", \"unclear\", \"unclearly\", \"unlikely\", \"usually\", \"would\", \"wouldn't\", \"wouldnt\"];\n",
        "\n",
        "  def authorial_stance(self, text):\n",
        "    epsilon = 0.000000000001;\n",
        "    words = strip_multiple_whitespaces(strip_punctuation(text.lower())).split()\n",
        "    pc_person_markers = np.round(float(len([i for i in words if i in self.PersonMarkers])/(len(text.split())+epsilon))*100,3)\n",
        "    pc_code_gloss = np.round(float(len([i for i in words if i in self.CodeGloss])/(len(text.split())+epsilon))*100,3)\n",
        "    pc_att_markers = np.round(float(len([i for i in words if i in self.AttitudeMarkers])/(len(text.split())+epsilon))*100,3)\n",
        "    pc_endophorics = np.round(float(len([i for i in words if i in self.Endophorics])/(len(text.split())+epsilon))*100,3)\n",
        "    pc_hedges = np.round(float(len([i for i in words if i in self.Hedges])/(len(text.split())+epsilon))*100,3)\n",
        "    pc_emphatics = np.round(float(len([i for i in words if i in self.Emphatics])/(len(text.split())+epsilon))*100,3)\n",
        "    pc_frame_markers = np.round(float(len([i for i in words if i in self.FrameMarkers])/(len(text.split())+epsilon))*100,3)\n",
        "    pc_evidentials = np.round(float(len([i for i in words if i in self.Evidentials])/(len(text.split())+epsilon))*100,3)\n",
        "\n",
        "    pc_interactional = np.array([pc_person_markers, pc_hedges, pc_emphatics, pc_att_markers])\n",
        "    pc_interactive = np.array([pc_code_gloss, pc_endophorics, pc_evidentials, pc_frame_markers])\n",
        "\n",
        "    interactional = np.sum(pc_interactional, axis=0)\n",
        "    interactive = np.sum(pc_interactive, axis=0)\n",
        "\n",
        "    return np.round(interactional,3), np.round(interactive,3), len(words)\n",
        "\n",
        "  def persuasiveness(self, text):\n",
        "    epsilon = 0.000000000001;\n",
        "    words = strip_multiple_whitespaces(strip_punctuation(text.lower())).split()\n",
        "    pc_person_markers = np.round(float(len([i for i in words if i in self.PersonMarkers])/(len(text.split())+epsilon))*100,3)\n",
        "    pc_code_gloss = np.round(float(len([i for i in words if i in self.CodeGloss])/(len(text.split())+epsilon))*100,3)\n",
        "    pc_att_markers = np.round(float(len([i for i in words if i in self.AttitudeMarkers])/(len(text.split())+epsilon))*100,3)\n",
        "    pc_endophorics = np.round(float(len([i for i in words if i in self.Endophorics])/(len(text.split())+epsilon))*100,3)\n",
        "    pc_hedges = np.round(float(len([i for i in words if i in self.Hedges])/(len(text.split())+epsilon))*100,3)\n",
        "    pc_emphatics = np.round(float(len([i for i in words if i in self.Emphatics])/(len(text.split())+epsilon))*100,3)\n",
        "    pc_frame_markers = np.round(float(len([i for i in words if i in self.FrameMarkers])/(len(text.split())+epsilon))*100,3)\n",
        "    pc_evidentials = np.round(float(len([i for i in words if i in self.Evidentials])/(len(text.split())+epsilon))*100,3)\n",
        "\n",
        "    pc_interactive = np.array([pc_code_gloss, pc_endophorics, pc_evidentials, pc_frame_markers])\n",
        "\n",
        "    return pc_interactive - (pc_hedges + pc_emphatics + pc_att_markers)\n",
        "\n",
        "\n",
        "  def moving_average(self, x, w):\n",
        "    return np.convolve(x, np.ones(w), 'valid') / w\n",
        "\n",
        "  # Auxiliary functions for preprocessing.\n",
        "  def log(self, text):\n",
        "    return print(text), print(strip_multiple_whitespaces(strip_punctuation(text.lower())).split())\n",
        "\n",
        "  def get_sentences(self, text):\n",
        "    mystr = text.replace(' ', '')\n",
        "    return mystr.split(\".\")\n",
        "\n",
        "  def get_sentences_from_txt(self, filename):\n",
        "    sentences = []\n",
        "    with open(filename, 'r') as f:\n",
        "      for line in f:\n",
        "        sentences.extend(line.split('.'))\n",
        "    return sentences"
      ],
      "metadata": {
        "id": "ix839WA_jiX9"
      },
      "execution_count": null,
      "outputs": []
    },
    {
      "cell_type": "markdown",
      "source": [
        "## Basic analysis."
      ],
      "metadata": {
        "id": "deScirwAHj_W"
      }
    },
    {
      "cell_type": "code",
      "source": [
        "# initialize a constructor\n",
        "md = MetaDiscourseAnalysis()"
      ],
      "metadata": {
        "id": "T1mFdfJE_eIw"
      },
      "execution_count": null,
      "outputs": []
    },
    {
      "cell_type": "code",
      "source": [
        "df = pd.read_csv(\"2023rice.csv\")\n",
        "df.head()\n"
      ],
      "metadata": {
        "id": "5NW70ZgeMCuM"
      },
      "execution_count": null,
      "outputs": []
    },
    {
      "cell_type": "code",
      "source": [
        "df.columns"
      ],
      "metadata": {
        "id": "yY2rq6wBMTEB"
      },
      "execution_count": null,
      "outputs": []
    },
    {
      "cell_type": "code",
      "source": [
        "df[\"pc_interactive\"] = df[\"transcript\"].apply(lambda x: md.authorial_stance(x)[1])\n",
        "df[\"pc_interactional\"] = df[\"transcript\"].apply(lambda x: md.authorial_stance(x)[0])\n",
        "df[\"persuasiveness\"] = df[\"transcript\"].apply(lambda x: md.persuasiveness(x)[0])\n",
        "df[\"index\"] = np.arange(len(df))"
      ],
      "metadata": {
        "id": "4H0xdzHkMVfc"
      },
      "execution_count": null,
      "outputs": []
    },
    {
      "cell_type": "code",
      "source": [
        "# sort by persuasiveness ascending order\n",
        "\n",
        "df.sort_values(by=['persuasiveness'], inplace=True, ascending=True)\n",
        "df.head(4)"
      ],
      "metadata": {
        "id": "IxaZxTsfMiH3"
      },
      "execution_count": null,
      "outputs": []
    },
    {
      "cell_type": "code",
      "source": [
        "px.scatter(df, x = \"index\", y=\"persuasiveness\", hover_data=\"transcript\")"
      ],
      "metadata": {
        "id": "tGVnsb9sMRRx"
      },
      "execution_count": null,
      "outputs": []
    }
  ]
}